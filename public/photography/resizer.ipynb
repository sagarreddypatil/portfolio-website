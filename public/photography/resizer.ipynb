{
 "cells": [
  {
   "cell_type": "code",
   "execution_count": 2,
   "metadata": {},
   "outputs": [],
   "source": [
    "from glob import glob\n",
    "from PIL import Image\n",
    "\n",
    "import matplotlib.pyplot as plt\n",
    "from matplotlib.pyplot import imshow"
   ]
  },
  {
   "cell_type": "code",
   "execution_count": 3,
   "metadata": {},
   "outputs": [],
   "source": [
    "imgs_files = glob('*.jpg')\n",
    "imgs = [Image.open(img) for img in imgs_files]"
   ]
  },
  {
   "cell_type": "code",
   "execution_count": 4,
   "metadata": {},
   "outputs": [],
   "source": [
    "def apply_rotation(img):\n",
    "    # apply exif rotation\n",
    "    try:\n",
    "        exif = img._getexif()\n",
    "        if exif is not None:\n",
    "            orientation = exif.get(274)\n",
    "            if orientation == 3:\n",
    "                img = img.rotate(180, expand=True)\n",
    "            elif orientation == 6:\n",
    "                img = img.rotate(270, expand=True)\n",
    "            elif orientation == 8:\n",
    "                img = img.rotate(90, expand=True)\n",
    "    except Exception:\n",
    "        pass\n",
    "\n",
    "    return img"
   ]
  },
  {
   "cell_type": "code",
   "execution_count": 5,
   "metadata": {},
   "outputs": [],
   "source": [
    "def crop_3_2(image):\n",
    "    width, height = image.size\n",
    "    \n",
    "    if width > height:  # Landscape orientation\n",
    "        target_ratio = 3 / 2\n",
    "        new_width = int(height * target_ratio)\n",
    "        if new_width > width:\n",
    "            new_height = int(width / target_ratio)\n",
    "            top = (height - new_height) // 2\n",
    "            bottom = top + new_height\n",
    "            left, right = 0, width\n",
    "        else:\n",
    "            left = (width - new_width) // 2\n",
    "            right = left + new_width\n",
    "            top, bottom = 0, height\n",
    "    else:  # Portrait orientation\n",
    "        target_ratio = 2 / 3\n",
    "        new_height = int(width / target_ratio)\n",
    "        if new_height > height:\n",
    "            new_width = int(height * target_ratio)\n",
    "            left = (width - new_width) // 2\n",
    "            right = left + new_width\n",
    "            top, bottom = 0, height\n",
    "        else:\n",
    "            top = (height - new_height) // 2\n",
    "            bottom = top + new_height\n",
    "            left, right = 0, width\n",
    "    \n",
    "    return image.crop((left, top, right, bottom))"
   ]
  },
  {
   "cell_type": "code",
   "execution_count": 6,
   "metadata": {},
   "outputs": [
    {
     "name": "stdout",
     "output_type": "stream",
     "text": [
      "sunset.jpg: 4000x6000 (0.67)\n",
      "emu.jpg: 5707x3805 (1.50)\n",
      "grand-canyon-2.jpg: 6016x4010 (1.50)\n",
      "laptop.jpg: 6000x4000 (1.50)\n",
      "grand-canyon-1.jpg: 6000x4000 (1.50)\n",
      "andromeda.jpg: 5964x3976 (1.50)\n",
      "michigan-1.jpg: 2688x4032 (0.67)\n",
      "antelope-canyon.jpg: 4010x6016 (0.67)\n"
     ]
    }
   ],
   "source": [
    "for fname, img in zip(imgs_files, imgs):\n",
    "    img = apply_rotation(img)\n",
    "    img = crop_3_2(img)\n",
    "\n",
    "    w, h = img.size\n",
    "    aspect_ratio = w/h\n",
    "    print(f'{fname}: {w}x{h} ({aspect_ratio:.2f})')\n",
    "\n",
    "    # overwrite the original image\n",
    "    img.save(fname)\n"
   ]
  }
 ],
 "metadata": {
  "kernelspec": {
   "display_name": ".venv",
   "language": "python",
   "name": "python3"
  },
  "language_info": {
   "codemirror_mode": {
    "name": "ipython",
    "version": 3
   },
   "file_extension": ".py",
   "mimetype": "text/x-python",
   "name": "python",
   "nbconvert_exporter": "python",
   "pygments_lexer": "ipython3",
   "version": "3.12.5"
  }
 },
 "nbformat": 4,
 "nbformat_minor": 2
}
